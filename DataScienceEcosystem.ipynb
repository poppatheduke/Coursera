{
 "cells": [
  {
   "cell_type": "markdown",
   "id": "17fd0c12-3f5a-47c5-804d-2ae5f3e1007b",
   "metadata": {},
   "source": [
    "<h1>Data Science Tools and Ecosystem</h1>"
   ]
  },
  {
   "cell_type": "markdown",
   "id": "e25a185e-0b05-49e9-914b-974a59e03708",
   "metadata": {},
   "source": [
    "In this notebook, Data Science Tools and Ecosystem are summarized."
   ]
  },
  {
   "cell_type": "markdown",
   "id": "a92a2dd6-8669-40ee-a00d-ece840346480",
   "metadata": {},
   "source": [
    "Some of the popular languages that Data Scientists use are:\n",
    "<ol>\n",
    "    <li>Python</li>\n",
    "    <li>Javascript</li>\n",
    "    <li>C++</li>\n",
    "</ol>"
   ]
  },
  {
   "cell_type": "markdown",
   "id": "5c1965b1-fbbe-43fc-8061-03615509226b",
   "metadata": {},
   "source": [
    "Some of the commonly used libraries used by Data Scientists include:\n",
    "<ol>\n",
    "    <li>Numpy</li>\n",
    "    <li>Pandas</li>\n",
    "    <li>Seaborn</li>\n",
    "    <li>Matplotlib</li>\n",
    "</ol>"
   ]
  },
  {
   "cell_type": "markdown",
   "id": "f82828e8-f9d5-4558-b205-434ddaf36bce",
   "metadata": {},
   "source": [
    "<table>\n",
    "    <tr><td>Data Science Tools</td></tr>\n",
    "    <tr><td>Zeppelin Notebooks</td></tr>\n",
    "    <tr><td>Jupyter notebooks</td></tr>\n",
    "    <tr><td>R Studio</td></tr>\n",
    "</table>"
   ]
  },
  {
   "cell_type": "markdown",
   "id": "9d25e2cd-d00b-4b44-a194-ade92fef3af2",
   "metadata": {},
   "source": [
    "<h3>Below are a few examples of evaluating arithmetic expressions in Python</h3>"
   ]
  },
  {
   "cell_type": "code",
   "execution_count": 2,
   "id": "bdd2d668-3200-4f9f-933f-4bb0b7683be1",
   "metadata": {},
   "outputs": [
    {
     "data": {
      "text/plain": [
       "17"
      ]
     },
     "execution_count": 2,
     "metadata": {},
     "output_type": "execute_result"
    }
   ],
   "source": [
    "# This a simple arithmetic expression to mutiply then add integers\n",
    "(3*4)+5"
   ]
  },
  {
   "cell_type": "code",
   "execution_count": 3,
   "id": "bbccdb3e-ab46-47fe-a7de-46fa2ac6532f",
   "metadata": {},
   "outputs": [
    {
     "name": "stdout",
     "output_type": "stream",
     "text": [
      "3.3333333333333335\n"
     ]
    }
   ],
   "source": [
    "# This will convert 200 minutes to hours by diving by 60\n",
    "Minutes = 200\n",
    "Hour = 60\n",
    "Time = Minutes/Hour\n",
    "print(Time)"
   ]
  },
  {
   "cell_type": "markdown",
   "id": "5cd98dc8-d5b8-4efa-b955-25f7a4f0fae8",
   "metadata": {},
   "source": [
    "<strong>Objectives:</strong>\n",
    "<ul>\n",
    "    <li>List of popular languages for Data Science</li>\n",
    "    <li>List of commonly used libraries used by Data Scientists</li>\n",
    "    <li>List of development environment open source tools used in data science</li>\n",
    "</ul>"
   ]
  },
  {
   "cell_type": "markdown",
   "id": "c0d654de-1d50-4c2e-b58e-351feaaa9508",
   "metadata": {},
   "source": [
    "<h2>Author</h2>\n",
    "Duke Kojo Kongo"
   ]
  },
  {
   "cell_type": "code",
   "execution_count": null,
   "id": "2786620f-0e66-4ffd-89e1-ef7d8b01906e",
   "metadata": {},
   "outputs": [],
   "source": []
  }
 ],
 "metadata": {
  "kernelspec": {
   "display_name": "Python 3 (ipykernel)",
   "language": "python",
   "name": "python3"
  },
  "language_info": {
   "codemirror_mode": {
    "name": "ipython",
    "version": 3
   },
   "file_extension": ".py",
   "mimetype": "text/x-python",
   "name": "python",
   "nbconvert_exporter": "python",
   "pygments_lexer": "ipython3",
   "version": "3.11.5"
  }
 },
 "nbformat": 4,
 "nbformat_minor": 5
}
